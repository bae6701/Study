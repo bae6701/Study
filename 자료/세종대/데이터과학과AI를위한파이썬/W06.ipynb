{
 "cells": [
  {
   "cell_type": "markdown",
   "id": "e5c8867a",
   "metadata": {},
   "source": [
    "### 1. 벡터의 내적과 외적\n",
    "#### 1) 벡터의 덧셈"
   ]
  },
  {
   "cell_type": "code",
   "execution_count": 15,
   "id": "a640097e",
   "metadata": {},
   "outputs": [
    {
     "name": "stdout",
     "output_type": "stream",
     "text": [
      "[5, 8]\n"
     ]
    }
   ],
   "source": [
    "x=[2,5]\n",
    "y=[3,3]\n",
    "z=[i+j for i, j in zip(x,y)]\n",
    "#z=[i+j for i, j in zip([2,5],[3,3])]\n",
    "print(z)"
   ]
  },
  {
   "cell_type": "code",
   "execution_count": 17,
   "id": "89cb2e9d",
   "metadata": {},
   "outputs": [
    {
     "data": {
      "text/plain": [
       "[(1, 4, 7), (2, 5, 8), (3, 6, 9)]"
      ]
     },
     "execution_count": 17,
     "metadata": {},
     "output_type": "execute_result"
    }
   ],
   "source": [
    "# 참고\n",
    "# list(zip([2,5],[3,3]))\n",
    "# list(zip([1, 2, 3], [4, 5, 6]))\n",
    "list(zip([1, 2, 3], [4, 5, 6], [7, 8, 9]))"
   ]
  },
  {
   "cell_type": "code",
   "execution_count": 18,
   "id": "b20f89fe",
   "metadata": {},
   "outputs": [
    {
     "name": "stdout",
     "output_type": "stream",
     "text": [
      "[5 8]\n"
     ]
    }
   ],
   "source": [
    "# NumPy 라이브러리 이용한 덧셈\n",
    "import numpy as np\n",
    "u = np.array(x)\n",
    "v = np.array(y)\n",
    "w=u+v\n",
    "print(w)"
   ]
  },
  {
   "cell_type": "markdown",
   "id": "775ef7ee",
   "metadata": {},
   "source": [
    "#### 2) 벡터의 뺄셈"
   ]
  },
  {
   "cell_type": "code",
   "execution_count": 11,
   "id": "b322ed51",
   "metadata": {},
   "outputs": [
    {
     "name": "stdout",
     "output_type": "stream",
     "text": [
      "[-1, 2]\n"
     ]
    }
   ],
   "source": [
    "x=[2,5]\n",
    "y=[3,3]\n",
    "z=[i-j for i, j in zip(x,y)]\n",
    "# z=[i-j for i, j in zip([2,5],[3,3])]\n",
    "print(z)"
   ]
  },
  {
   "cell_type": "code",
   "execution_count": 12,
   "id": "3c539aeb",
   "metadata": {},
   "outputs": [
    {
     "name": "stdout",
     "output_type": "stream",
     "text": [
      "[-1  2]\n"
     ]
    }
   ],
   "source": [
    "# NumPy 라이브러리 이용한 덧셈\n",
    "import numpy as np\n",
    "u = np.array(x)\n",
    "v = np.array(y)\n",
    "w=u-v\n",
    "print(w)"
   ]
  },
  {
   "cell_type": "markdown",
   "id": "a910df39",
   "metadata": {},
   "source": [
    "#### 3) 벡터의 곱셈\n",
    "3-1) 스칼라의 곱"
   ]
  },
  {
   "cell_type": "code",
   "execution_count": 13,
   "id": "a5694002",
   "metadata": {},
   "outputs": [
    {
     "name": "stdout",
     "output_type": "stream",
     "text": [
      "[24, 32]\n"
     ]
    }
   ],
   "source": [
    "x=[3,4]\n",
    "c=8\n",
    "z=[c*i for i in x]\n",
    "print(z)"
   ]
  },
  {
   "cell_type": "code",
   "execution_count": 19,
   "id": "f80d3cf6",
   "metadata": {},
   "outputs": [
    {
     "name": "stdout",
     "output_type": "stream",
     "text": [
      "[24 32]\n"
     ]
    }
   ],
   "source": [
    "# NumPy 라이브러리 이용한 간단한 코드\n",
    "\n",
    "import numpy as np\n",
    "u = np.array([3,4])\n",
    "c = 8\n",
    "# w=u*c\n",
    "w=8*u\n",
    "print(w)"
   ]
  },
  {
   "cell_type": "markdown",
   "id": "0b591648",
   "metadata": {},
   "source": [
    "3-2) 벡터의 내적"
   ]
  },
  {
   "cell_type": "code",
   "execution_count": 23,
   "id": "4d6518db",
   "metadata": {},
   "outputs": [
    {
     "name": "stdout",
     "output_type": "stream",
     "text": [
      "72\n"
     ]
    }
   ],
   "source": [
    "import numpy as np\n",
    "u = np.array([6,6])\n",
    "v = np.array([12,0])\n",
    "# uv = u*v\n",
    "uv = np.dot(u, v)\n",
    "print(uv)"
   ]
  },
  {
   "cell_type": "code",
   "execution_count": 26,
   "id": "2c4854bb",
   "metadata": {},
   "outputs": [],
   "source": [
    "# numpy.dot()를 이용하여 벡터의 내적\n",
    "\n",
    "import numpy as np\n",
    "A = np.arange(1*2*3).reshape((1,2,3))\n",
    "B1 = np.arange(1*2*3).reshape((1,2,3))\n",
    "B2 = np.arange(1*2*3).reshape((1,3,2))\n",
    "B3 = np.arange(1*2*3).reshape((2,1,3))\n",
    "B4 = np.arange(1*2*3).reshape((2,3,1))\n",
    "B5 = np.arange(1*2*3).reshape((3,1,2))\n",
    "B6 = np.arange(1*2*3).reshape((3,2,1))"
   ]
  },
  {
   "cell_type": "code",
   "execution_count": 28,
   "id": "6d7c2a21",
   "metadata": {},
   "outputs": [
    {
     "data": {
      "text/plain": [
       "array([[[0, 1, 2],\n",
       "        [3, 4, 5]]])"
      ]
     },
     "execution_count": 28,
     "metadata": {},
     "output_type": "execute_result"
    }
   ],
   "source": [
    "A"
   ]
  },
  {
   "cell_type": "code",
   "execution_count": 34,
   "id": "79bc73ef",
   "metadata": {},
   "outputs": [
    {
     "data": {
      "text/plain": [
       "array([[[0],\n",
       "        [1],\n",
       "        [2]],\n",
       "\n",
       "       [[3],\n",
       "        [4],\n",
       "        [5]]])"
      ]
     },
     "execution_count": 34,
     "metadata": {},
     "output_type": "execute_result"
    }
   ],
   "source": [
    "B4"
   ]
  },
  {
   "cell_type": "code",
   "execution_count": 33,
   "id": "3821b825",
   "metadata": {},
   "outputs": [
    {
     "data": {
      "text/plain": [
       "array([[[[ 5],\n",
       "         [14]],\n",
       "\n",
       "        [[14],\n",
       "         [50]]]])"
      ]
     },
     "execution_count": 33,
     "metadata": {},
     "output_type": "execute_result"
    }
   ],
   "source": [
    "np.dot(A,B4) # 결과는 오류가 맞습니다"
   ]
  },
  {
   "cell_type": "code",
   "execution_count": 30,
   "id": "a584a9b7",
   "metadata": {},
   "outputs": [
    {
     "data": {
      "text/plain": [
       "array([[[[10, 13]],\n",
       "\n",
       "        [[28, 40]]]])"
      ]
     },
     "execution_count": 30,
     "metadata": {},
     "output_type": "execute_result"
    }
   ],
   "source": [
    "np.dot(A,B2)"
   ]
  },
  {
   "cell_type": "code",
   "execution_count": 5,
   "id": "0fa6cedb",
   "metadata": {},
   "outputs": [
    {
     "data": {
      "text/plain": [
       "array([[[[ 5],\n",
       "         [14]],\n",
       "\n",
       "        [[14],\n",
       "         [50]]]])"
      ]
     },
     "execution_count": 5,
     "metadata": {},
     "output_type": "execute_result"
    }
   ],
   "source": [
    "np.dot(A,B4)"
   ]
  },
  {
   "cell_type": "markdown",
   "id": "e50ab67a",
   "metadata": {},
   "source": [
    "3-3) 벡터의 외적"
   ]
  },
  {
   "cell_type": "code",
   "execution_count": 36,
   "id": "253935ab",
   "metadata": {},
   "outputs": [
    {
     "data": {
      "text/plain": [
       "[-2, 4, -2]"
      ]
     },
     "execution_count": 36,
     "metadata": {},
     "output_type": "execute_result"
    }
   ],
   "source": [
    "a = (1, 3, 5) \n",
    "b = (2, 4, 6)\n",
    "\n",
    "# 벡터의 외적을 위한 수식을 함수로 구현\n",
    "def cross(a, b):\n",
    "    c = [a[1]*b[2] - a[2]*b[1],\n",
    "    a[2]*b[0] - a[0]*b[2],\n",
    "    a[0]*b[1] - a[1]*b[0]]\n",
    "    return c\n",
    "cross(a,b)"
   ]
  },
  {
   "cell_type": "code",
   "execution_count": 37,
   "id": "c38afd0c",
   "metadata": {},
   "outputs": [
    {
     "name": "stdout",
     "output_type": "stream",
     "text": [
      "[-2  4 -2]\n"
     ]
    }
   ],
   "source": [
    "# Numpy 이용한 벡터 외적 계산\n",
    "import numpy as np      \n",
    "print(np.cross(a,b))    # cross() 함수 이용한 결과"
   ]
  },
  {
   "cell_type": "markdown",
   "id": "3a7c1476",
   "metadata": {},
   "source": [
    "#### 4) 벡터의 거리/유사도\n",
    "4-1) 유클리드 거리(Euclidean distance)"
   ]
  },
  {
   "cell_type": "code",
   "execution_count": 38,
   "id": "fa039689",
   "metadata": {},
   "outputs": [
    {
     "name": "stdout",
     "output_type": "stream",
     "text": [
      "Euclidean distance:  5.196152422706632\n"
     ]
    }
   ],
   "source": [
    "# scipy.spatia 모듈로부터 distance 함수 호출\n",
    "from scipy.spatial import distance\n",
    "\n",
    "# 두 점 P1과 P2 명시\n",
    "p1 = (1, 2, 3)\n",
    "p2 = (4, 5, 6)\n",
    "\n",
    "# P1과 P2 사이의 유클리드 거리 계산\n",
    "d = distance.euclidean(p1, p2)\n",
    "print(\"Euclidean distance: \",d)"
   ]
  },
  {
   "cell_type": "markdown",
   "id": "338f617a",
   "metadata": {},
   "source": [
    "4-2) 맨해튼 거리(Manhattan distance)"
   ]
  },
  {
   "cell_type": "code",
   "execution_count": 50,
   "id": "c3ba717f",
   "metadata": {},
   "outputs": [
    {
     "data": {
      "text/plain": [
       "9"
      ]
     },
     "execution_count": 50,
     "metadata": {},
     "output_type": "execute_result"
    }
   ],
   "source": [
    "# 두 점 P1과 P2 정의\n",
    "p1 = np.array([1, 2, 3])\n",
    "p2 = np.array([4, 5, 6])\n",
    "\n",
    "sum(abs(p2-p1))"
   ]
  },
  {
   "cell_type": "markdown",
   "id": "3e152d28",
   "metadata": {},
   "source": [
    "4-3) 코사인 유사도(Cosine Similarity)"
   ]
  },
  {
   "cell_type": "code",
   "execution_count": 4,
   "id": "7c088a7c",
   "metadata": {},
   "outputs": [
    {
     "name": "stdout",
     "output_type": "stream",
     "text": [
      "0.5773502691896258\n",
      "0.8838834764831843\n",
      "0.8164965809277259\n"
     ]
    }
   ],
   "source": [
    "from numpy import dot\n",
    "from numpy.linalg import norm\n",
    "import numpy as np\n",
    "\n",
    "def cos_sim(A, B):\n",
    "    return dot(A, B)/(norm(A)*norm(B))\n",
    "\n",
    "doc1=np.array([1,1,1,1,0])\n",
    "doc2=np.array([1,0,1,0,1])\n",
    "doc3=np.array([2,1,1,1,1])\n",
    "\n",
    "print(cos_sim(doc1, doc2)) #문서1과 문서2의 코사인 유사도\n",
    "print(cos_sim(doc1, doc3)) #문서1과 문서3의 코사인 유사도\n",
    "print(cos_sim(doc2, doc3)) #문서2과 문서3의 코사인 유사도"
   ]
  },
  {
   "cell_type": "markdown",
   "id": "de69ddac",
   "metadata": {},
   "source": [
    "### 2. 행렬변환\n",
    "#### 1) 역행렬\n"
   ]
  },
  {
   "cell_type": "code",
   "execution_count": 5,
   "id": "f36aec09",
   "metadata": {},
   "outputs": [
    {
     "name": "stdout",
     "output_type": "stream",
     "text": [
      "[[ 1.  0.  0.  0.]\n",
      " [-2.  1.  0.  0.]\n",
      " [-3.  0.  1.  0.]\n",
      " [-4. -0. -0.  1.]]\n"
     ]
    }
   ],
   "source": [
    "import numpy as np\n",
    "A = np.matrix([[1, 0, 0, 0], [2, 1, 0, 0], [3, 0, 1, 0], [4, 0, 0, 1]])\n",
    "print(np.linalg.inv(A))"
   ]
  },
  {
   "cell_type": "markdown",
   "id": "f76629af",
   "metadata": {},
   "source": [
    "#### 2) 전치행렬"
   ]
  },
  {
   "cell_type": "code",
   "execution_count": 6,
   "id": "c0c89c32",
   "metadata": {},
   "outputs": [
    {
     "name": "stdout",
     "output_type": "stream",
     "text": [
      "[[ 0  1  2  3  4]\n",
      " [ 5  6  7  8  9]\n",
      " [10 11 12 13 14]]\n"
     ]
    }
   ],
   "source": [
    "import numpy as np\n",
    "a = np.arange(15).reshape(3, 5)\n",
    "print(a)"
   ]
  },
  {
   "cell_type": "code",
   "execution_count": 7,
   "id": "f4d2f1c0",
   "metadata": {},
   "outputs": [
    {
     "data": {
      "text/plain": [
       "array([[ 0,  5, 10],\n",
       "       [ 1,  6, 11],\n",
       "       [ 2,  7, 12],\n",
       "       [ 3,  8, 13],\n",
       "       [ 4,  9, 14]])"
      ]
     },
     "execution_count": 7,
     "metadata": {},
     "output_type": "execute_result"
    }
   ],
   "source": [
    "np.transpose(a)"
   ]
  }
 ],
 "metadata": {
  "kernelspec": {
   "display_name": "Python 3 (ipykernel)",
   "language": "python",
   "name": "python3"
  },
  "language_info": {
   "codemirror_mode": {
    "name": "ipython",
    "version": 3
   },
   "file_extension": ".py",
   "mimetype": "text/x-python",
   "name": "python",
   "nbconvert_exporter": "python",
   "pygments_lexer": "ipython3",
   "version": "3.9.7"
  }
 },
 "nbformat": 4,
 "nbformat_minor": 5
}
