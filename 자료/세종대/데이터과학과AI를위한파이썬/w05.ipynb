{
 "cells": [
  {
   "cell_type": "markdown",
   "id": "15bbe870",
   "metadata": {},
   "source": [
    "### 5주차. 벡터와 공간\n",
    "#### 1. 벡터의 표현  numpy.array([#,#])\n",
    "1) 크기가 (3, )인 1차원 배열의 표현"
   ]
  },
  {
   "cell_type": "code",
   "execution_count": 2,
   "id": "d93f48fc",
   "metadata": {},
   "outputs": [
    {
     "name": "stdout",
     "output_type": "stream",
     "text": [
      "[1 2 3]\n"
     ]
    }
   ],
   "source": [
    "import numpy as np\n",
    "\n",
    "x = np.array([1, 2, 3]) \n",
    "print(x)"
   ]
  },
  {
   "cell_type": "markdown",
   "id": "03290d2f",
   "metadata": {},
   "source": [
    "2) 크기가 (1, 3)인 2차원 배열의 표현(행 벡터)"
   ]
  },
  {
   "cell_type": "code",
   "execution_count": 2,
   "id": "a997b734",
   "metadata": {},
   "outputs": [
    {
     "name": "stdout",
     "output_type": "stream",
     "text": [
      "[[1 2 3]]\n"
     ]
    }
   ],
   "source": [
    "u = np.array([[1, 2, 3]])  \n",
    "print(u)"
   ]
  },
  {
   "cell_type": "markdown",
   "id": "41876f8d",
   "metadata": {},
   "source": [
    "3) 크기가 (3, 1)인 2차원 배열의 표현(열 벡터)"
   ]
  },
  {
   "cell_type": "code",
   "execution_count": 3,
   "id": "8f09fed5",
   "metadata": {},
   "outputs": [
    {
     "name": "stdout",
     "output_type": "stream",
     "text": [
      "[[1]\n",
      " [2]\n",
      " [3]]\n"
     ]
    }
   ],
   "source": [
    "v = np.array([[1], [2], [3]])\n",
    "print(v)"
   ]
  },
  {
   "cell_type": "markdown",
   "id": "e1dda1ef",
   "metadata": {},
   "source": [
    "4) 크기가 (3, 2)인 2차원 배열의 표현(열 벡터)"
   ]
  },
  {
   "cell_type": "code",
   "execution_count": 9,
   "id": "c87d845d",
   "metadata": {},
   "outputs": [
    {
     "name": "stdout",
     "output_type": "stream",
     "text": [
      "[[1 2]\n",
      " [2 2]\n",
      " [3 2]]\n"
     ]
    }
   ],
   "source": [
    "w = np.array([[1, 2], [2, 2], [3, 2]])\n",
    "print(w)"
   ]
  },
  {
   "cell_type": "markdown",
   "id": "19b14faf",
   "metadata": {},
   "source": [
    "4) 크기가 (3, 3, 2)인 3차원 배열의 표현(열 벡터)"
   ]
  },
  {
   "cell_type": "code",
   "execution_count": 3,
   "id": "6cd50052",
   "metadata": {},
   "outputs": [
    {
     "name": "stdout",
     "output_type": "stream",
     "text": [
      "[[[1 2]\n",
      "  [1 2]\n",
      "  [1 2]]\n",
      "\n",
      " [[2 2]\n",
      "  [2 2]\n",
      "  [2 2]]\n",
      "\n",
      " [[3 2]\n",
      "  [3 2]\n",
      "  [3 2]]]\n"
     ]
    }
   ],
   "source": [
    "y = np.array([[[1, 2], [1, 2], [1, 2]]\n",
    "              ,[[2, 2], [2, 2], [2, 2]]\n",
    "             , [[3, 2], [3, 2], [3, 2]]])\n",
    "print(y)"
   ]
  },
  {
   "cell_type": "markdown",
   "id": "2568eff6",
   "metadata": {},
   "source": [
    "#### 2. 특수한 벡터\n",
    "- 단위벡터  linalg.norm()"
   ]
  },
  {
   "cell_type": "code",
   "execution_count": 8,
   "id": "2699b1c6",
   "metadata": {},
   "outputs": [
    {
     "name": "stdout",
     "output_type": "stream",
     "text": [
      "3.7416573867739413\n",
      "[0.53452248 0.80178373 0.26726124]\n"
     ]
    }
   ],
   "source": [
    "import numpy as np\n",
    "from scipy import linalg\n",
    "\n",
    "s=np.array([2,3,1])\n",
    "v_hat01 = s / linalg.norm(s)\n",
    "print(linalg.norm(s))\n",
    "print(v_hat01)"
   ]
  },
  {
   "cell_type": "markdown",
   "id": "57e7e9ab",
   "metadata": {},
   "source": [
    "- 영벡터"
   ]
  },
  {
   "cell_type": "code",
   "execution_count": 12,
   "id": "12adafe0",
   "metadata": {},
   "outputs": [
    {
     "data": {
      "text/plain": [
       "array([0., 0., 0., 0., 0.])"
      ]
     },
     "execution_count": 12,
     "metadata": {},
     "output_type": "execute_result"
    }
   ],
   "source": [
    "import numpy as np\n",
    "np.zeros(5)"
   ]
  },
  {
   "cell_type": "code",
   "execution_count": 14,
   "id": "c360a56b",
   "metadata": {},
   "outputs": [
    {
     "data": {
      "text/plain": [
       "array([[[0., 0.],\n",
       "        [0., 0.]],\n",
       "\n",
       "       [[0., 0.],\n",
       "        [0., 0.]]])"
      ]
     },
     "execution_count": 14,
     "metadata": {},
     "output_type": "execute_result"
    }
   ],
   "source": [
    "s = (2,2,2)\n",
    "np.zeros(s)"
   ]
  },
  {
   "cell_type": "markdown",
   "id": "7436b0ef",
   "metadata": {},
   "source": [
    "#### 3. 선형 결합과 선형 독립\n",
    "- 선형결합 표현"
   ]
  },
  {
   "cell_type": "code",
   "execution_count": 16,
   "id": "52c13c74",
   "metadata": {},
   "outputs": [
    {
     "name": "stdout",
     "output_type": "stream",
     "text": [
      "[ 5 -2]\n"
     ]
    }
   ],
   "source": [
    "import numpy as np\n",
    "a = np.array([2,4])\n",
    "b = np.array([1,6])\n",
    "c=(4*a)+((-3)*b)\n",
    "print(c)"
   ]
  },
  {
   "cell_type": "markdown",
   "id": "8f54e840",
   "metadata": {},
   "source": [
    "#### 4. 부분공간과 부분공간의 기저\n",
    "- 랭크(rank)  \n",
    "numpy.linalg.matrix_rank()"
   ]
  },
  {
   "cell_type": "code",
   "execution_count": 18,
   "id": "cfc89a88",
   "metadata": {},
   "outputs": [
    {
     "data": {
      "text/plain": [
       "2"
      ]
     },
     "execution_count": 18,
     "metadata": {},
     "output_type": "execute_result"
    }
   ],
   "source": [
    "import numpy as np\n",
    "X1 = np.array([[2, 7], [5, 1]])   # 선형독립\n",
    "np.linalg.matrix_rank(X1)"
   ]
  },
  {
   "cell_type": "code",
   "execution_count": 19,
   "id": "875cd8f6",
   "metadata": {},
   "outputs": [
    {
     "data": {
      "text/plain": [
       "1"
      ]
     },
     "execution_count": 19,
     "metadata": {},
     "output_type": "execute_result"
    }
   ],
   "source": [
    "X1 = np.array([[2, 4], [3, 6]])    # 선형종속\n",
    "np.linalg.matrix_rank(X1)"
   ]
  }
 ],
 "metadata": {
  "kernelspec": {
   "display_name": "Python 3 (ipykernel)",
   "language": "python",
   "name": "python3"
  },
  "language_info": {
   "codemirror_mode": {
    "name": "ipython",
    "version": 3
   },
   "file_extension": ".py",
   "mimetype": "text/x-python",
   "name": "python",
   "nbconvert_exporter": "python",
   "pygments_lexer": "ipython3",
   "version": "3.9.7"
  }
 },
 "nbformat": 4,
 "nbformat_minor": 5
}
