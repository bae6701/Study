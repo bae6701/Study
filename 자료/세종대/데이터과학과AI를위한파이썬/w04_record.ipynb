{
 "cells": [
  {
   "cell_type": "markdown",
   "metadata": {},
   "source": [
    "### 1. 부정적분\n",
    "#### 1) f(x) = xe^x + e^x 부정적분 구하기 (sympy.integrate(f, x))"
   ]
  },
  {
   "cell_type": "code",
   "execution_count": 1,
   "metadata": {},
   "outputs": [
    {
     "data": {
      "text/latex": [
       "$\\displaystyle x e^{x} + e^{x}$"
      ],
      "text/plain": [
       "x*exp(x) + exp(x)"
      ]
     },
     "execution_count": 1,
     "metadata": {},
     "output_type": "execute_result"
    }
   ],
   "source": [
    "import sympy as sp\n",
    "x=sp.symbols('x')\n",
    "f1=x*sp.exp(x)+sp.exp(x)\n",
    "f1"
   ]
  },
  {
   "cell_type": "code",
   "execution_count": 2,
   "metadata": {},
   "outputs": [
    {
     "data": {
      "text/latex": [
       "$\\displaystyle x e^{x}$"
      ],
      "text/plain": [
       "x*exp(x)"
      ]
     },
     "execution_count": 2,
     "metadata": {},
     "output_type": "execute_result"
    }
   ],
   "source": [
    "sp.integrate(f1)"
   ]
  },
  {
   "cell_type": "markdown",
   "metadata": {},
   "source": [
    "#### 2) f(x)=2x+y  x에 대한 부정적분(편미분)"
   ]
  },
  {
   "cell_type": "code",
   "execution_count": 3,
   "metadata": {},
   "outputs": [
    {
     "data": {
      "text/latex": [
       "$\\displaystyle 2 x + y$"
      ],
      "text/plain": [
       "2*x + y"
      ]
     },
     "execution_count": 3,
     "metadata": {},
     "output_type": "execute_result"
    }
   ],
   "source": [
    "x, y = sp.symbols('x y')\n",
    "f2 = 2*x+y\n",
    "f2"
   ]
  },
  {
   "cell_type": "code",
   "execution_count": 4,
   "metadata": {},
   "outputs": [
    {
     "data": {
      "text/latex": [
       "$\\displaystyle x^{2} + x y$"
      ],
      "text/plain": [
       "x**2 + x*y"
      ]
     },
     "execution_count": 4,
     "metadata": {},
     "output_type": "execute_result"
    }
   ],
   "source": [
    "sp.integrate(f2,x)"
   ]
  },
  {
   "cell_type": "code",
   "execution_count": 5,
   "metadata": {},
   "outputs": [
    {
     "data": {
      "text/latex": [
       "$\\displaystyle 2 x y + \\frac{y^{2}}{2}$"
      ],
      "text/plain": [
       "2*x*y + y**2/2"
      ]
     },
     "execution_count": 5,
     "metadata": {},
     "output_type": "execute_result"
    }
   ],
   "source": [
    "sp.integrate(f2, y)"
   ]
  },
  {
   "cell_type": "markdown",
   "metadata": {},
   "source": [
    "#### 3) f(x) = xyexp(x^2+y^2) 을 x에 대해 적분하고 또다시 y에 대해 적분하시오.(다중적분)"
   ]
  },
  {
   "cell_type": "code",
   "execution_count": 7,
   "metadata": {},
   "outputs": [
    {
     "data": {
      "text/latex": [
       "$\\displaystyle x y e^{x^{2} + y^{2}}$"
      ],
      "text/plain": [
       "x*y*exp(x**2 + y**2)"
      ]
     },
     "execution_count": 7,
     "metadata": {},
     "output_type": "execute_result"
    }
   ],
   "source": [
    "x, y = sp.symbols('x y')\n",
    "f3 = x*y*sp.exp(x**2 +y**2)\n",
    "f3"
   ]
  },
  {
   "cell_type": "code",
   "execution_count": 10,
   "metadata": {},
   "outputs": [
    {
     "data": {
      "text/latex": [
       "$\\displaystyle \\frac{e^{x^{2} + y^{2}}}{4}$"
      ],
      "text/plain": [
       "exp(x**2 + y**2)/4"
      ]
     },
     "execution_count": 10,
     "metadata": {},
     "output_type": "execute_result"
    }
   ],
   "source": [
    "f3_1 = sp.integrate(f3, x)\n",
    "sp.integrate(f3_1, y)"
   ]
  },
  {
   "cell_type": "markdown",
   "metadata": {},
   "source": [
    "### 2. 정적분\n",
    "#### 1) f(x) = x^3 - 3x^2 +x +6 정적분 그래프 그리기"
   ]
  },
  {
   "cell_type": "code",
   "execution_count": 11,
   "metadata": {},
   "outputs": [],
   "source": [
    "# matplotlib 한글 폰트 사용\n",
    "from matplotlib import font_manager, rc\n",
    "font_path = \"C:/Windows/Fonts/GULIM.TTC\"\n",
    "font = font_manager.FontProperties(fname=font_path).get_name()\n",
    "rc('font', family=font)"
   ]
  },
  {
   "cell_type": "code",
   "execution_count": 33,
   "metadata": {
    "school_cell_uuid": "3c6ba00b1e7c42a68350187472e6782f",
    "scrolled": false
   },
   "outputs": [
    {
     "data": {
      "image/png": "[encoded data removed]",
      "text/plain": [
       "<Figure size 432x288 with 1 Axes>"
      ]
     },
     "metadata": {
      "needs_background": "light"
     },
     "output_type": "display_data"
    }
   ],
   "source": [
    "from matplotlib.patches import Polygon\n",
    "import numpy as np\n",
    "import matplotlib.pyplot as plt\n",
    "\n",
    "def f(x):\n",
    "    return x ** 3 - 3 * x ** 2 + x + 6\n",
    "\n",
    "\n",
    "a, b = 0, 2             # a, b에 0과 2를 할당\n",
    "x = np.linspace(a - 0.5, b + 0.5, 50)      # 등간으로 x값 생성\n",
    "y = f(x)\n",
    "\n",
    "ax = plt.subplot(111)          # 그래프 프래임 표현\n",
    "plt.title(\"정적분의 예\")\n",
    "plt.plot(x, y, 'r', linewidth=2)     # cf) 'r' -> 'blue', linewidth = 5\n",
    "plt.ylim(bottom=0)      #y축 0부터 나타남\n",
    "ix = np.linspace(a, b)             # cf) linspace(a, b, 50)\n",
    "iy = f(ix)\n",
    "verts = [(a, 0)] + list(zip(ix, iy)) + [(b, 0)]     # zip(x,y) : 1:1 쌍으로 자료를 묶어주는 함수    print(verts)\n",
    "\n",
    "poly = Polygon(verts, facecolor='0.9', edgecolor='0.5')      # 음영 표시\n",
    "ax.add_patch(poly)\n",
    "plt.text(0.5 * (a + b), 0.2 * (f(a) + f(b)), r\"$\\int_a^b f(x)dx$\",\n",
    "         horizontalalignment='center', fontsize=20)       # 수식 표현, 위치 조정 (horizontalalignment 생략가능)\n",
    "plt.figtext(0.9, 0.05, '$x$')\n",
    "plt.figtext(0.1, 0.9, '$y$')\n",
    "ax.spines['right'].set_visible(False)     # 오른쪽 축 삭제\n",
    "ax.spines['top'].set_visible(False)       # 상단 축 삭제\n",
    "ax.xaxis.set_ticks_position('bottom')      # cf) 'bottom', top', 'both', 'default', 'none'\n",
    "ax.set_xticks((a, b))\n",
    "ax.set_xticklabels(('$a$', '$b$'))        # 0, 2를 a와 b로 표현 \n",
    "ax.set_yticks([f(a), f(b)])           # cf) [f(a), f(b)]\n",
    "ax.set_xlim(-2, 4)          # x축의 범위\n",
    "ax.set_ylim(0, 8)           # y축의 범위\n",
    "plt.show()"
   ]
  },
  {
   "cell_type": "markdown",
   "metadata": {},
   "source": [
    "#### 2) f(x) = x^3 - 3x^2 +x +6 정적분 구하기(sympy.integrate(f), F.subs().evalf)"
   ]
  },
  {
   "cell_type": "code",
   "execution_count": 35,
   "metadata": {},
   "outputs": [
    {
     "data": {
      "text/latex": [
       "$\\displaystyle \\frac{x^{4}}{4} - x^{3} + \\frac{x^{2}}{2} + 6 x$"
      ],
      "text/plain": [
       "x**4/4 - x**3 + x**2/2 + 6*x"
      ]
     },
     "execution_count": 35,
     "metadata": {},
     "output_type": "execute_result"
    }
   ],
   "source": [
    "import sympy as sp\n",
    "\n",
    "x = sp.symbols('x')\n",
    "f4 = x**3 -3*x**2 + x +6\n",
    "F4 = sp.integrate(f4,x)\n",
    "F4"
   ]
  },
  {
   "cell_type": "code",
   "execution_count": 36,
   "metadata": {},
   "outputs": [
    {
     "data": {
      "text/latex": [
       "$\\displaystyle 10.0$"
      ],
      "text/plain": [
       "10.0000000000000"
      ]
     },
     "execution_count": 36,
     "metadata": {},
     "output_type": "execute_result"
    }
   ],
   "source": [
    "(F4.subs(x,2) - F4.subs(x,0)).evalf()"
   ]
  },
  {
   "cell_type": "markdown",
   "metadata": {},
   "source": [
    "#### 3) f(x) = x^3 - 3x^2 +x +6 수치적분 구하기(scipy.integrate.quad(f, a, b)"
   ]
  },
  {
   "cell_type": "code",
   "execution_count": 40,
   "metadata": {},
   "outputs": [
    {
     "data": {
      "text/plain": [
       "(10.0, 1.1102230246251565e-13)"
      ]
     },
     "execution_count": 40,
     "metadata": {},
     "output_type": "execute_result"
    }
   ],
   "source": [
    "import scipy as sp\n",
    "from scipy.integrate import quad\n",
    "def f(x):\n",
    "    return x ** 3 - 3 * x ** 2 + x + 6\n",
    "\n",
    "sp.integrate.quad(f, 0, 2)"
   ]
  },
  {
   "cell_type": "code",
   "execution_count": null,
   "metadata": {},
   "outputs": [],
   "source": [
    "`"
   ]
  }
 ],
 "metadata": {
  "kernelspec": {
   "display_name": "Python 3 (ipykernel)",
   "language": "python",
   "name": "python3"
  },
  "language_info": {
   "codemirror_mode": {
    "name": "ipython",
    "version": 3
   },
   "file_extension": ".py",
   "mimetype": "text/x-python",
   "name": "python",
   "nbconvert_exporter": "python",
   "pygments_lexer": "ipython3",
   "version": "3.9.7"
  },
  "pycharm": {
   "stem_cell": {
    "cell_type": "raw",
    "metadata": {
     "collapsed": false
    },
    "source": []
   }
  },
  "toc": {
   "base_numbering": 1,
   "nav_menu": {},
   "number_sections": true,
   "sideBar": true,
   "skip_h1_title": false,
   "title_cell": "Table of Contents",
   "title_sidebar": "Contents",
   "toc_cell": false,
   "toc_position": {},
   "toc_section_display": "block",
   "toc_window_display": false
  }
 },
 "nbformat": 4,
 "nbformat_minor": 2
}
