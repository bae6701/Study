{
 "cells": [
  {
   "cell_type": "markdown",
   "id": "ed4d51d8",
   "metadata": {},
   "source": [
    "### 1. 함수의 극한\n",
    "#### 1) x가 무한대로 갈 때,  함수 1/x의 극한값"
   ]
  },
  {
   "cell_type": "code",
   "execution_count": 118,
   "id": "80500247",
   "metadata": {},
   "outputs": [
    {
     "name": "stderr",
     "output_type": "stream",
     "text": [
      "C:\\Users\\MBKIM\\AppData\\Local\\Temp/ipykernel_4684/2288198537.py:3: RuntimeWarning: divide by zero encountered in true_divide\n",
      "  y = 1/x\n"
     ]
    },
    {
     "data": {
      "text/plain": [
       "array([  -1.        ,   -1.00401606,   -1.00806452,   -1.01214575,\n",
       "         -1.01626016,   -1.02040816,   -1.02459016,   -1.02880658,\n",
       "         -1.03305785,   -1.0373444 ,   -1.04166667,   -1.0460251 ,\n",
       "         -1.05042017,   -1.05485232,   -1.05932203,   -1.06382979,\n",
       "         -1.06837607,   -1.07296137,   -1.07758621,   -1.08225108,\n",
       "         -1.08695652,   -1.09170306,   -1.09649123,   -1.10132159,\n",
       "         -1.10619469,   -1.11111111,   -1.11607143,   -1.12107623,\n",
       "         -1.12612613,   -1.13122172,   -1.13636364,   -1.14155251,\n",
       "         -1.14678899,   -1.15207373,   -1.15740741,   -1.1627907 ,\n",
       "         -1.1682243 ,   -1.17370892,   -1.17924528,   -1.18483412,\n",
       "         -1.19047619,   -1.19617225,   -1.20192308,   -1.20772947,\n",
       "         -1.21359223,   -1.2195122 ,   -1.2254902 ,   -1.23152709,\n",
       "         -1.23762376,   -1.24378109,   -1.25      ,   -1.25628141,\n",
       "         -1.26262626,   -1.26903553,   -1.2755102 ,   -1.28205128,\n",
       "         -1.28865979,   -1.29533679,   -1.30208333,   -1.30890052,\n",
       "         -1.31578947,   -1.32275132,   -1.32978723,   -1.3368984 ,\n",
       "         -1.34408602,   -1.35135135,   -1.35869565,   -1.36612022,\n",
       "         -1.37362637,   -1.38121547,   -1.38888889,   -1.39664804,\n",
       "         -1.40449438,   -1.41242938,   -1.42045455,   -1.42857143,\n",
       "         -1.43678161,   -1.44508671,   -1.45348837,   -1.4619883 ,\n",
       "         -1.47058824,   -1.47928994,   -1.48809524,   -1.49700599,\n",
       "         -1.5060241 ,   -1.51515152,   -1.52439024,   -1.53374233,\n",
       "         -1.54320988,   -1.55279503,   -1.5625    ,   -1.57232704,\n",
       "         -1.58227848,   -1.59235669,   -1.6025641 ,   -1.61290323,\n",
       "         -1.62337662,   -1.63398693,   -1.64473684,   -1.65562914,\n",
       "         -1.66666667,   -1.67785235,   -1.68918919,   -1.70068027,\n",
       "         -1.71232877,   -1.72413793,   -1.73611111,   -1.74825175,\n",
       "         -1.76056338,   -1.77304965,   -1.78571429,   -1.79856115,\n",
       "         -1.8115942 ,   -1.82481752,   -1.83823529,   -1.85185185,\n",
       "         -1.86567164,   -1.87969925,   -1.89393939,   -1.90839695,\n",
       "         -1.92307692,   -1.9379845 ,   -1.953125  ,   -1.96850394,\n",
       "         -1.98412698,   -2.        ,   -2.01612903,   -2.03252033,\n",
       "         -2.04918033,   -2.0661157 ,   -2.08333333,   -2.10084034,\n",
       "         -2.11864407,   -2.13675214,   -2.15517241,   -2.17391304,\n",
       "         -2.19298246,   -2.21238938,   -2.23214286,   -2.25225225,\n",
       "         -2.27272727,   -2.29357798,   -2.31481481,   -2.3364486 ,\n",
       "         -2.35849057,   -2.38095238,   -2.40384615,   -2.42718447,\n",
       "         -2.45098039,   -2.47524752,   -2.5       ,   -2.52525253,\n",
       "         -2.55102041,   -2.57731959,   -2.60416667,   -2.63157895,\n",
       "         -2.65957447,   -2.68817204,   -2.7173913 ,   -2.74725275,\n",
       "         -2.77777778,   -2.80898876,   -2.84090909,   -2.87356322,\n",
       "         -2.90697674,   -2.94117647,   -2.97619048,   -3.01204819,\n",
       "         -3.04878049,   -3.08641975,   -3.125     ,   -3.16455696,\n",
       "         -3.20512821,   -3.24675325,   -3.28947368,   -3.33333333,\n",
       "         -3.37837838,   -3.42465753,   -3.47222222,   -3.52112676,\n",
       "         -3.57142857,   -3.62318841,   -3.67647059,   -3.73134328,\n",
       "         -3.78787879,   -3.84615385,   -3.90625   ,   -3.96825397,\n",
       "         -4.03225806,   -4.09836066,   -4.16666667,   -4.23728814,\n",
       "         -4.31034483,   -4.38596491,   -4.46428571,   -4.54545455,\n",
       "         -4.62962963,   -4.71698113,   -4.80769231,   -4.90196078,\n",
       "         -5.        ,   -5.10204082,   -5.20833333,   -5.31914894,\n",
       "         -5.43478261,   -5.55555556,   -5.68181818,   -5.81395349,\n",
       "         -5.95238095,   -6.09756098,   -6.25      ,   -6.41025641,\n",
       "         -6.57894737,   -6.75675676,   -6.94444444,   -7.14285714,\n",
       "         -7.35294118,   -7.57575758,   -7.8125    ,   -8.06451613,\n",
       "         -8.33333333,   -8.62068966,   -8.92857143,   -9.25925926,\n",
       "         -9.61538462,  -10.        ,  -10.41666667,  -10.86956522,\n",
       "        -11.36363636,  -11.9047619 ,  -12.5       ,  -13.15789474,\n",
       "        -13.88888889,  -14.70588235,  -15.625     ,  -16.66666667,\n",
       "        -17.85714286,  -19.23076923,  -20.83333333,  -22.72727273,\n",
       "        -25.        ,  -27.77777778,  -31.25      ,  -35.71428571,\n",
       "        -41.66666667,  -50.        ,  -62.5       ,  -83.33333333,\n",
       "       -125.        , -250.        ,           inf,  250.        ,\n",
       "        125.        ,   83.33333333,   62.5       ,   50.        ,\n",
       "         41.66666667,   35.71428571,   31.25      ,   27.77777778,\n",
       "         25.        ,   22.72727273,   20.83333333,   19.23076923,\n",
       "         17.85714286,   16.66666667,   15.625     ,   14.70588235,\n",
       "         13.88888889,   13.15789474,   12.5       ,   11.9047619 ,\n",
       "         11.36363636,   10.86956522,   10.41666667,   10.        ,\n",
       "          9.61538462,    9.25925926,    8.92857143,    8.62068966,\n",
       "          8.33333333,    8.06451613,    7.8125    ,    7.57575758,\n",
       "          7.35294118,    7.14285714,    6.94444444,    6.75675676,\n",
       "          6.57894737,    6.41025641,    6.25      ,    6.09756098,\n",
       "          5.95238095,    5.81395349,    5.68181818,    5.55555556,\n",
       "          5.43478261,    5.31914894,    5.20833333,    5.10204082,\n",
       "          5.        ,    4.90196078,    4.80769231,    4.71698113,\n",
       "          4.62962963,    4.54545455,    4.46428571,    4.38596491,\n",
       "          4.31034483,    4.23728814,    4.16666667,    4.09836066,\n",
       "          4.03225806,    3.96825397,    3.90625   ,    3.84615385,\n",
       "          3.78787879,    3.73134328,    3.67647059,    3.62318841,\n",
       "          3.57142857,    3.52112676,    3.47222222,    3.42465753,\n",
       "          3.37837838,    3.33333333,    3.28947368,    3.24675325,\n",
       "          3.20512821,    3.16455696,    3.125     ,    3.08641975,\n",
       "          3.04878049,    3.01204819,    2.97619048,    2.94117647,\n",
       "          2.90697674,    2.87356322,    2.84090909,    2.80898876,\n",
       "          2.77777778,    2.74725275,    2.7173913 ,    2.68817204,\n",
       "          2.65957447,    2.63157895,    2.60416667,    2.57731959,\n",
       "          2.55102041,    2.52525253,    2.5       ,    2.47524752,\n",
       "          2.45098039,    2.42718447,    2.40384615,    2.38095238,\n",
       "          2.35849057,    2.3364486 ,    2.31481481,    2.29357798,\n",
       "          2.27272727,    2.25225225,    2.23214286,    2.21238938,\n",
       "          2.19298246,    2.17391304,    2.15517241,    2.13675214,\n",
       "          2.11864407,    2.10084034,    2.08333333,    2.0661157 ,\n",
       "          2.04918033,    2.03252033,    2.01612903,    2.        ,\n",
       "          1.98412698,    1.96850394,    1.953125  ,    1.9379845 ,\n",
       "          1.92307692,    1.90839695,    1.89393939,    1.87969925,\n",
       "          1.86567164,    1.85185185,    1.83823529,    1.82481752,\n",
       "          1.8115942 ,    1.79856115,    1.78571429,    1.77304965,\n",
       "          1.76056338,    1.74825175,    1.73611111,    1.72413793,\n",
       "          1.71232877,    1.70068027,    1.68918919,    1.67785235,\n",
       "          1.66666667,    1.65562914,    1.64473684,    1.63398693,\n",
       "          1.62337662,    1.61290323,    1.6025641 ,    1.59235669,\n",
       "          1.58227848,    1.57232704,    1.5625    ,    1.55279503,\n",
       "          1.54320988,    1.53374233,    1.52439024,    1.51515152,\n",
       "          1.5060241 ,    1.49700599,    1.48809524,    1.47928994,\n",
       "          1.47058824,    1.4619883 ,    1.45348837,    1.44508671,\n",
       "          1.43678161,    1.42857143,    1.42045455,    1.41242938,\n",
       "          1.40449438,    1.39664804,    1.38888889,    1.38121547,\n",
       "          1.37362637,    1.36612022,    1.35869565,    1.35135135,\n",
       "          1.34408602,    1.3368984 ,    1.32978723,    1.32275132,\n",
       "          1.31578947,    1.30890052,    1.30208333,    1.29533679,\n",
       "          1.28865979,    1.28205128,    1.2755102 ,    1.26903553,\n",
       "          1.26262626,    1.25628141,    1.25      ,    1.24378109,\n",
       "          1.23762376,    1.23152709,    1.2254902 ,    1.2195122 ,\n",
       "          1.21359223,    1.20772947,    1.20192308,    1.19617225,\n",
       "          1.19047619,    1.18483412,    1.17924528,    1.17370892,\n",
       "          1.1682243 ,    1.1627907 ,    1.15740741,    1.15207373,\n",
       "          1.14678899,    1.14155251,    1.13636364,    1.13122172,\n",
       "          1.12612613,    1.12107623,    1.11607143,    1.11111111,\n",
       "          1.10619469,    1.10132159,    1.09649123,    1.09170306,\n",
       "          1.08695652,    1.08225108,    1.07758621,    1.07296137,\n",
       "          1.06837607,    1.06382979,    1.05932203,    1.05485232,\n",
       "          1.05042017,    1.0460251 ,    1.04166667,    1.0373444 ,\n",
       "          1.03305785,    1.02880658,    1.02459016,    1.02040816,\n",
       "          1.01626016,    1.01214575,    1.00806452,    1.00401606,\n",
       "          1.        ])"
      ]
     },
     "execution_count": 118,
     "metadata": {},
     "output_type": "execute_result"
    }
   ],
   "source": [
    "import numpy as np\n",
    "x = np.linspace(-1, 1, 501)\n",
    "y = 1/x\n",
    "y"
   ]
  },
  {
   "cell_type": "code",
   "execution_count": 119,
   "id": "7a8908e4",
   "metadata": {},
   "outputs": [
    {
     "data": {
      "image/png": "[encoded data removed]",
      "text/plain": [
       "<Figure size 432x288 with 1 Axes>"
      ]
     },
     "metadata": {
      "needs_background": "light"
     },
     "output_type": "display_data"
    }
   ],
   "source": [
    "import matplotlib.pyplot as plt\n",
    "plt.plot(x, y, \"r-\")\n",
    "plt.grid(True)\n",
    "plt.show()"
   ]
  },
  {
   "cell_type": "code",
   "execution_count": 126,
   "id": "f4bd31c3",
   "metadata": {},
   "outputs": [
    {
     "data": {
      "text/latex": [
       "$\\displaystyle 0$"
      ],
      "text/plain": [
       "0"
      ]
     },
     "execution_count": 126,
     "metadata": {},
     "output_type": "execute_result"
    }
   ],
   "source": [
    "from sympy import Limit, S, Symbol\n",
    "x = Symbol('x')\n",
    "Limit(1/x, x, S.Infinity).doit()"
   ]
  },
  {
   "cell_type": "markdown",
   "id": "e9a8b3de",
   "metadata": {},
   "source": [
    "#### 2) x가 마이너스 무한대로 갈 때,  함수 1/x의 극한값"
   ]
  },
  {
   "cell_type": "code",
   "execution_count": 127,
   "id": "22ae4233",
   "metadata": {},
   "outputs": [
    {
     "data": {
      "text/latex": [
       "$\\displaystyle 0$"
      ],
      "text/plain": [
       "0"
      ]
     },
     "execution_count": 127,
     "metadata": {},
     "output_type": "execute_result"
    }
   ],
   "source": [
    "Limit(1/x, x, S.Infinity, dir='-').doit()"
   ]
  },
  {
   "cell_type": "markdown",
   "id": "dd9e907f",
   "metadata": {},
   "source": [
    "#### 3) 함수 1/x에서 x=0의 좌/우극한값"
   ]
  },
  {
   "cell_type": "code",
   "execution_count": 128,
   "id": "f31ffc04",
   "metadata": {},
   "outputs": [
    {
     "data": {
      "text/latex": [
       "$\\displaystyle \\infty$"
      ],
      "text/plain": [
       "oo"
      ]
     },
     "execution_count": 128,
     "metadata": {},
     "output_type": "execute_result"
    }
   ],
   "source": [
    "Limit(1/x, x, 0).doit()"
   ]
  },
  {
   "cell_type": "code",
   "execution_count": 129,
   "id": "062087a3",
   "metadata": {},
   "outputs": [
    {
     "data": {
      "text/latex": [
       "$\\displaystyle -\\infty$"
      ],
      "text/plain": [
       "-oo"
      ]
     },
     "execution_count": 129,
     "metadata": {},
     "output_type": "execute_result"
    }
   ],
   "source": [
    "Limit(1/x, x, 0, dir='-').doit()"
   ]
  },
  {
   "cell_type": "markdown",
   "id": "07c78e4b",
   "metadata": {},
   "source": [
    "### 2. 평균변화율\n",
    "#### f(x) = 2x^2 + 4x+7 x가 0과 2에서의 평균변화율"
   ]
  },
  {
   "cell_type": "code",
   "execution_count": 162,
   "id": "e0fc7072",
   "metadata": {},
   "outputs": [
    {
     "data": {
      "text/latex": [
       "$\\displaystyle 8$"
      ],
      "text/plain": [
       "8"
      ]
     },
     "execution_count": 162,
     "metadata": {},
     "output_type": "execute_result"
    }
   ],
   "source": [
    "from sympy import symbols\n",
    "min = 0\n",
    "max = 2\n",
    "x = symbols('x')\n",
    "fx = 2*x**2 + 4*x + 7\n",
    "f_min = fx.subs(x, min)\n",
    "f_max = fx.subs(x, max)\n",
    "result = (f_max - f_min)/(max - min)\n",
    "result"
   ]
  },
  {
   "cell_type": "markdown",
   "id": "16df9467",
   "metadata": {},
   "source": [
    "### 3. 도함수와 미분계수\n",
    "#### f(x) = 2x^3 + 4x^2 + x +7"
   ]
  },
  {
   "cell_type": "code",
   "execution_count": 5,
   "id": "ea18f76f",
   "metadata": {},
   "outputs": [
    {
     "data": {
      "text/latex": [
       "$\\displaystyle 79$"
      ],
      "text/plain": [
       "79"
      ]
     },
     "execution_count": 5,
     "metadata": {},
     "output_type": "execute_result"
    }
   ],
   "source": [
    "from sympy import symbols, Derivative\n",
    "x = symbols('x')\n",
    "fx = 2*x**3 + 4*x**2 +x +7\n",
    "fprime = Derivative(fx, x).doit()\n",
    "# fprime\n",
    "result = fprime.subs(x, 3)\n",
    "result"
   ]
  },
  {
   "cell_type": "markdown",
   "id": "fc0b95cc",
   "metadata": {},
   "source": [
    "### 4. 다항함수의 미분법\n",
    "#### f(x,y) = 2x^3 + 3x^2 + xy+1"
   ]
  },
  {
   "cell_type": "code",
   "execution_count": 8,
   "id": "2f989730",
   "metadata": {},
   "outputs": [
    {
     "data": {
      "text/latex": [
       "$\\displaystyle x$"
      ],
      "text/plain": [
       "x"
      ]
     },
     "execution_count": 8,
     "metadata": {},
     "output_type": "execute_result"
    }
   ],
   "source": [
    "import sympy as sym\n",
    "x = sym.symbols('x')\n",
    "y = sym.symbols('y')\n",
    "fprime = sym.diff(2*x**3 + 3*x**2 +x*y +1, y)\n",
    "fprime"
   ]
  },
  {
   "cell_type": "markdown",
   "id": "1adfa47b",
   "metadata": {},
   "source": [
    "### 연습문제\n",
    "#### x에 대한 도함수 구하기\n",
    "#### 1) y=(2x+1)(3x^2+2x)"
   ]
  },
  {
   "cell_type": "code",
   "execution_count": 9,
   "id": "26385960",
   "metadata": {},
   "outputs": [
    {
     "data": {
      "text/latex": [
       "$\\displaystyle 18 x^{2} + 14 x + 2$"
      ],
      "text/plain": [
       "18*x**2 + 14*x + 2"
      ]
     },
     "execution_count": 9,
     "metadata": {},
     "output_type": "execute_result"
    }
   ],
   "source": [
    "x = symbols('x')\n",
    "a = sym.diff((2*x +1)*(3*x**2 + 2*x))\n",
    "sym.simplify(a)"
   ]
  },
  {
   "cell_type": "markdown",
   "id": "f132885c",
   "metadata": {},
   "source": [
    "#### 2) y=log(x^2)         "
   ]
  },
  {
   "cell_type": "code",
   "execution_count": 10,
   "id": "f387f5c3",
   "metadata": {},
   "outputs": [
    {
     "data": {
      "text/latex": [
       "$\\displaystyle \\frac{2}{x}$"
      ],
      "text/plain": [
       "2/x"
      ]
     },
     "execution_count": 10,
     "metadata": {},
     "output_type": "execute_result"
    }
   ],
   "source": [
    "b = sym.diff(sym.log(x**2), x)\n",
    "b"
   ]
  },
  {
   "cell_type": "markdown",
   "id": "b892a47e",
   "metadata": {},
   "source": [
    "#### 3) y=x*exp(x)         "
   ]
  },
  {
   "cell_type": "code",
   "execution_count": 13,
   "id": "1eb50f66",
   "metadata": {},
   "outputs": [
    {
     "data": {
      "text/latex": [
       "$\\displaystyle x e^{x} + e^{x}$"
      ],
      "text/plain": [
       "x*exp(x) + exp(x)"
      ]
     },
     "execution_count": 13,
     "metadata": {},
     "output_type": "execute_result"
    }
   ],
   "source": [
    "c = sym.diff(x*sym.exp(x), x)\n",
    "c"
   ]
  },
  {
   "cell_type": "code",
   "execution_count": null,
   "id": "5c8a8f7f",
   "metadata": {},
   "outputs": [],
   "source": []
  }
 ],
 "metadata": {
  "kernelspec": {
   "display_name": "Python 3 (ipykernel)",
   "language": "python",
   "name": "python3"
  },
  "language_info": {
   "codemirror_mode": {
    "name": "ipython",
    "version": 3
   },
   "file_extension": ".py",
   "mimetype": "text/x-python",
   "name": "python",
   "nbconvert_exporter": "python",
   "pygments_lexer": "ipython3",
   "version": "3.9.7"
  }
 },
 "nbformat": 4,
 "nbformat_minor": 5
}
